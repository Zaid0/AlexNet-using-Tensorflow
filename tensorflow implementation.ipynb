{
 "cells": [
  {
   "cell_type": "code",
   "execution_count": 1,
   "id": "aafdd6f3",
   "metadata": {},
   "outputs": [],
   "source": [
    "import pandas as pd\n",
    "import numpy as np \n",
    "import tensorflow as tf\n",
    "import keras\n",
    "from tensorflow.keras.layers import Conv2D, MaxPooling2D, Dense, InputLayer, Softmax, Flatten, Input\n",
    "import matplotlib.pyplot as plt\n",
    "import cv2"
   ]
  },
  {
   "cell_type": "code",
   "execution_count": 7,
   "id": "48e20b73",
   "metadata": {},
   "outputs": [],
   "source": [
    "data_dir = 'C:\\\\Users\\\\zaidr\\\\$ML_PATH\\\\Animal Classification\\\\Data'\n",
    "batch_size= 32"
   ]
  },
  {
   "cell_type": "code",
   "execution_count": 8,
   "id": "21e1033b",
   "metadata": {},
   "outputs": [],
   "source": [
    "height, width = 227, 227"
   ]
  },
  {
   "cell_type": "code",
   "execution_count": 82,
   "id": "48e90942",
   "metadata": {},
   "outputs": [
    {
     "name": "stdout",
     "output_type": "stream",
     "text": [
      "Found 4000 files belonging to 4 classes.\n",
      "Using 3800 files for training.\n"
     ]
    }
   ],
   "source": [
    "train_ds = tf.keras.utils.image_dataset_from_directory(\n",
    "  data_dir,\n",
    "  validation_split=0.05,\n",
    "  subset=\"training\",\n",
    "  seed=123,\n",
    "  image_size=(height, width),\n",
    "  batch_size=batch_size)"
   ]
  },
  {
   "cell_type": "code",
   "execution_count": 85,
   "id": "e00c8c8b",
   "metadata": {},
   "outputs": [
    {
     "name": "stdout",
     "output_type": "stream",
     "text": [
      "Found 4000 files belonging to 4 classes.\n",
      "Using 200 files for validation.\n"
     ]
    }
   ],
   "source": [
    "val_ds = tf.keras.utils.image_dataset_from_directory(\n",
    "        data_dir,\n",
    "        validation_split=0.05,\n",
    "        subset=\"validation\",\n",
    "        seed=123,\n",
    "        image_size=(height, width),\n",
    "        batch_size=batch_size)"
   ]
  },
  {
   "cell_type": "code",
   "execution_count": 105,
   "id": "bdd4060b",
   "metadata": {},
   "outputs": [
    {
     "data": {
      "text/plain": [
       "['Buffalo', 'Elephant', 'Rhino', 'Zebra']"
      ]
     },
     "execution_count": 105,
     "metadata": {},
     "output_type": "execute_result"
    }
   ],
   "source": [
    "train_ds.class_names"
   ]
  },
  {
   "cell_type": "code",
   "execution_count": 11,
   "id": "9864b00e",
   "metadata": {},
   "outputs": [],
   "source": [
    "NUM_Classes = 4"
   ]
  },
  {
   "cell_type": "code",
   "execution_count": 12,
   "id": "41b0d01d",
   "metadata": {},
   "outputs": [],
   "source": [
    "input_shape = (227, 227)"
   ]
  },
  {
   "cell_type": "markdown",
   "id": "2f5eaf43",
   "metadata": {},
   "source": [
    "### My model has two main difference between it and the original Alexnet which is Batch Normalization the original architecture has used local response normalizatin but I has noticed that BN is better on this specific data set. Also, I have used BN on all conv layers, the original one has used LRN on specific layers."
   ]
  },
  {
   "cell_type": "code",
   "execution_count": 13,
   "id": "c4251404",
   "metadata": {
    "scrolled": true
   },
   "outputs": [],
   "source": [
    "model = tf.keras.Sequential()\n",
    "model.add(Conv2D(96,(11, 11),strides=4, activation='relu', input_shape=(227, 227, 3)))\n",
    "model.add(MaxPooling2D((3, 3), strides=2))\n",
    "model.add(Conv2D(256,(5, 5), activation='relu'))\n",
    "model.add(keras.layers.BatchNormalization())\n",
    "model.add(MaxPooling2D((3, 3), strides=2))\n",
    "model.add(Conv2D(384,(3, 3), activation='relu'))\n",
    "model.add(keras.layers.BatchNormalization())\n",
    "model.add(Conv2D(256,(3, 3), activation='relu'))\n",
    "model.add(Flatten())\n",
    "model.add(Dense(4096))\n",
    "model.add(Dense(4096))\n",
    "model.add(Dense(4, activation='softmax'))"
   ]
  },
  {
   "cell_type": "code",
   "execution_count": 91,
   "id": "824476c3",
   "metadata": {},
   "outputs": [],
   "source": [
    "lr_schedule = tf.keras.callbacks.ReduceLROnPlateau(factor=1e-2,verbose=True)"
   ]
  },
  {
   "cell_type": "code",
   "execution_count": 95,
   "id": "b1b7ccd6",
   "metadata": {},
   "outputs": [
    {
     "name": "stderr",
     "output_type": "stream",
     "text": [
      "C:\\Users\\zaidr\\anaconda3\\lib\\site-packages\\keras\\optimizers\\optimizer_v2\\rmsprop.py:135: UserWarning: The `lr` argument is deprecated, use `learning_rate` instead.\n",
      "  super(RMSprop, self).__init__(name, **kwargs)\n"
     ]
    }
   ],
   "source": [
    "model.compile(\n",
    "    loss='sparse_categorical_crossentropy',\n",
    "    optimizer=tf.keras.optimizers.RMSprop(lr=0.001),\n",
    "    metrics=['accuracy']    \n",
    ")"
   ]
  },
  {
   "cell_type": "code",
   "execution_count": 97,
   "id": "94a316ea",
   "metadata": {
    "scrolled": false
   },
   "outputs": [
    {
     "name": "stdout",
     "output_type": "stream",
     "text": [
      "Epoch 1/10\n",
      "119/119 [==============================] - 41s 341ms/step - loss: 1.2028 - accuracy: 0.4703 - val_loss: 1.8546 - val_accuracy: 0.4500 - lr: 0.0010\n",
      "Epoch 2/10\n",
      "119/119 [==============================] - 40s 335ms/step - loss: 1.1556 - accuracy: 0.4511 - val_loss: 587.4108 - val_accuracy: 0.2750 - lr: 0.0010\n",
      "Epoch 3/10\n",
      "119/119 [==============================] - 40s 332ms/step - loss: 1.1762 - accuracy: 0.4624 - val_loss: 363.1932 - val_accuracy: 0.3000 - lr: 0.0010\n",
      "Epoch 4/10\n",
      "119/119 [==============================] - 40s 334ms/step - loss: 1.1182 - accuracy: 0.4534 - val_loss: 6.0235 - val_accuracy: 0.3650 - lr: 0.0010\n",
      "Epoch 5/10\n",
      "119/119 [==============================] - 40s 333ms/step - loss: 1.2229 - accuracy: 0.4518 - val_loss: 16.6129 - val_accuracy: 0.3200 - lr: 0.0010\n",
      "Epoch 6/10\n",
      "119/119 [==============================] - 40s 332ms/step - loss: 1.1334 - accuracy: 0.4429 - val_loss: 1.8656 - val_accuracy: 0.2550 - lr: 0.0010\n",
      "Epoch 7/10\n",
      "119/119 [==============================] - 40s 333ms/step - loss: 1.0762 - accuracy: 0.4442 - val_loss: 1.0167 - val_accuracy: 0.4650 - lr: 0.0010\n",
      "Epoch 8/10\n",
      "119/119 [==============================] - 40s 332ms/step - loss: 1.0804 - accuracy: 0.4545 - val_loss: 252.6050 - val_accuracy: 0.2550 - lr: 0.0010\n",
      "Epoch 9/10\n",
      "119/119 [==============================] - 40s 333ms/step - loss: 1.1086 - accuracy: 0.4716 - val_loss: 1.4506 - val_accuracy: 0.3450 - lr: 0.0010\n",
      "Epoch 10/10\n",
      "119/119 [==============================] - 40s 334ms/step - loss: 1.0396 - accuracy: 0.4682 - val_loss: 20.8005 - val_accuracy: 0.4100 - lr: 0.0010\n"
     ]
    },
    {
     "data": {
      "text/plain": [
       "<keras.callbacks.History at 0x259c5df9eb0>"
      ]
     },
     "execution_count": 97,
     "metadata": {},
     "output_type": "execute_result"
    }
   ],
   "source": [
    "model.fit(train_ds, validation_data=val_ds, batch_size=batch_size, epochs=10, callbacks=lr_schedule)"
   ]
  },
  {
   "cell_type": "code",
   "execution_count": 99,
   "id": "069880a2",
   "metadata": {},
   "outputs": [
    {
     "name": "stderr",
     "output_type": "stream",
     "text": [
      "Clipping input data to the valid range for imshow with RGB data ([0..1] for floats or [0..255] for integers).\n"
     ]
    },
    {
     "name": "stdout",
     "output_type": "stream",
     "text": [
      "(227, 227, 3)\n"
     ]
    },
    {
     "data": {
      "image/png": "[encoded data removed]",
      "text/plain": [
       "<Figure size 432x288 with 1 Axes>"
      ]
     },
     "metadata": {
      "needs_background": "light"
     },
     "output_type": "display_data"
    }
   ],
   "source": [
    "for img, label in train_ds.take(1):\n",
    "    print(img.numpy()[0].shape)\n",
    "    plt.imshow(img.numpy()[27])\n",
    "    break"
   ]
  },
  {
   "cell_type": "code",
   "execution_count": 100,
   "id": "529d88bb",
   "metadata": {},
   "outputs": [
    {
     "name": "stdout",
     "output_type": "stream",
     "text": [
      "1/1 [==============================] - 0s 383ms/step\n"
     ]
    },
    {
     "data": {
      "text/plain": [
       "array([[  0.       ,   0.       ,   0.       , 100.       ],\n",
       "       [ 26.6      ,  35.7      ,  35.5      ,   2.2      ],\n",
       "       [ 26.6      ,  35.7      ,  35.5      ,   2.2      ],\n",
       "       [ 26.6      ,  35.7      ,  35.5      ,   2.2      ],\n",
       "       [ 26.6      ,  35.7      ,  35.5      ,   2.2      ],\n",
       "       [ 26.6      ,  35.7      ,  35.5      ,   2.2      ],\n",
       "       [ 26.6      ,  35.7      ,  35.5      ,   2.2      ],\n",
       "       [ 20.6      ,  32.4      ,  28.099998 ,  18.9      ],\n",
       "       [  0.       ,   0.       ,   0.       , 100.       ],\n",
       "       [ 26.6      ,  35.7      ,  35.5      ,   2.2      ],\n",
       "       [ 26.6      ,  35.7      ,  35.5      ,   2.2      ],\n",
       "       [ 26.6      ,  35.7      ,  35.5      ,   2.2      ],\n",
       "       [  0.       ,   0.       ,   0.       , 100.       ],\n",
       "       [ 26.6      ,  35.7      ,  35.5      ,   2.2      ],\n",
       "       [ 26.6      ,  35.7      ,  35.5      ,   2.2      ],\n",
       "       [ 26.6      ,  35.7      ,  35.5      ,   2.2      ],\n",
       "       [ 26.6      ,  35.7      ,  35.5      ,   2.2      ],\n",
       "       [ 26.6      ,  35.7      ,  35.5      ,   2.2      ],\n",
       "       [  0.       ,   0.       ,   0.       , 100.       ],\n",
       "       [ 26.6      ,  35.7      ,  35.5      ,   2.2      ],\n",
       "       [  0.       ,   0.       ,   0.       , 100.       ],\n",
       "       [  0.       ,   0.       ,   0.       , 100.       ],\n",
       "       [ 26.6      ,  35.7      ,  35.5      ,   2.2      ],\n",
       "       [ 26.6      ,  35.7      ,  35.5      ,   2.2      ],\n",
       "       [ 26.6      ,  35.7      ,  35.5      ,   2.2      ],\n",
       "       [ 26.6      ,  35.7      ,  35.5      ,   2.2      ],\n",
       "       [ 21.3      ,  33.1      ,  16.9      ,  28.7      ],\n",
       "       [ 26.6      ,  35.7      ,  35.5      ,   2.2      ],\n",
       "       [ 26.6      ,  35.7      ,  35.5      ,   2.2      ],\n",
       "       [ 26.6      ,  35.7      ,  35.5      ,   2.2      ],\n",
       "       [ 26.6      ,  35.7      ,  35.5      ,   2.2      ],\n",
       "       [ 24.9      ,  34.3      ,  39.399998 ,   1.4000001]],\n",
       "      dtype=float32)"
      ]
     },
     "execution_count": 100,
     "metadata": {},
     "output_type": "execute_result"
    }
   ],
   "source": [
    "np.around(model.predict(train_ds.take(1)), decimals=3)*100"
   ]
  },
  {
   "cell_type": "code",
   "execution_count": 101,
   "id": "bf551445",
   "metadata": {},
   "outputs": [
    {
     "name": "stdout",
     "output_type": "stream",
     "text": [
      "1/1 [==============================] - 0s 212ms/step\n"
     ]
    }
   ],
   "source": [
    "y_hat = np.apply_along_axis(np.argmax, 1, np.around(model.predict(train_ds.take(1)), decimals=3)*100)"
   ]
  },
  {
   "cell_type": "code",
   "execution_count": 102,
   "id": "c229390d",
   "metadata": {},
   "outputs": [],
   "source": [
    "for i, labels in train_ds.take(1):\n",
    "    y = labels\n",
    "    break"
   ]
  },
  {
   "cell_type": "code",
   "execution_count": 103,
   "id": "5c3398cc",
   "metadata": {},
   "outputs": [
    {
     "data": {
      "text/plain": [
       "<tf.Tensor: shape=(32,), dtype=int32, numpy=\n",
       "array([0, 0, 2, 3, 3, 2, 2, 1, 0, 2, 3, 3, 3, 2, 1, 3, 3, 2, 1, 2, 0, 2,\n",
       "       1, 3, 3, 2, 0, 1, 2, 0, 0, 3])>"
      ]
     },
     "execution_count": 103,
     "metadata": {},
     "output_type": "execute_result"
    }
   ],
   "source": [
    "y"
   ]
  },
  {
   "cell_type": "code",
   "execution_count": 104,
   "id": "a85d682f",
   "metadata": {},
   "outputs": [
    {
     "data": {
      "text/plain": [
       "array([1, 1, 1, 1, 1, 1, 1, 1, 1, 3, 1, 1, 1, 1, 1, 1, 1, 1, 1, 3, 1, 1,\n",
       "       1, 1, 1, 1, 1, 1, 3, 1, 1, 3], dtype=int64)"
      ]
     },
     "execution_count": 104,
     "metadata": {},
     "output_type": "execute_result"
    }
   ],
   "source": [
    "y_hat"
   ]
  },
  {
   "cell_type": "markdown",
   "id": "b3a1ce65",
   "metadata": {},
   "source": [
    "## It is clearly underfitting the data and that is because lacking of data.\n",
    "### What we can do next?\n",
    "#### 1. Grab dats\n",
    "#### 2. Augment the data\n",
    "#### 3. Get pretrained weights then fine tune them.\n",
    "#### 4. Train longer"
   ]
  }
 ],
 "metadata": {
  "kernelspec": {
   "display_name": "Python 3 (ipykernel)",
   "language": "python",
   "name": "python3"
  },
  "language_info": {
   "codemirror_mode": {
    "name": "ipython",
    "version": 3
   },
   "file_extension": ".py",
   "mimetype": "text/x-python",
   "name": "python",
   "nbconvert_exporter": "python",
   "pygments_lexer": "ipython3",
   "version": "3.9.7"
  }
 },
 "nbformat": 4,
 "nbformat_minor": 5
}
